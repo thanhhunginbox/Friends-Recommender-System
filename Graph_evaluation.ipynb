{
 "cells": [
  {
   "cell_type": "code",
   "execution_count": 99,
   "metadata": {},
   "outputs": [],
   "source": [
    "import networkx as nx\n",
    "import pandas as pd\n",
    "import math"
   ]
  },
  {
   "cell_type": "code",
   "execution_count": 100,
   "metadata": {},
   "outputs": [
    {
     "data": {
      "text/html": [
       "<div>\n",
       "<style scoped>\n",
       "    .dataframe tbody tr th:only-of-type {\n",
       "        vertical-align: middle;\n",
       "    }\n",
       "\n",
       "    .dataframe tbody tr th {\n",
       "        vertical-align: top;\n",
       "    }\n",
       "\n",
       "    .dataframe thead th {\n",
       "        text-align: right;\n",
       "    }\n",
       "</style>\n",
       "<table border=\"1\" class=\"dataframe\">\n",
       "  <thead>\n",
       "    <tr style=\"text-align: right;\">\n",
       "      <th></th>\n",
       "      <th>id1</th>\n",
       "      <th>id2</th>\n",
       "    </tr>\n",
       "  </thead>\n",
       "  <tbody>\n",
       "    <tr>\n",
       "      <th>0</th>\n",
       "      <td>8674</td>\n",
       "      <td>2382</td>\n",
       "    </tr>\n",
       "    <tr>\n",
       "      <th>1</th>\n",
       "      <td>8674</td>\n",
       "      <td>12512</td>\n",
       "    </tr>\n",
       "    <tr>\n",
       "      <th>2</th>\n",
       "      <td>8674</td>\n",
       "      <td>10317</td>\n",
       "    </tr>\n",
       "    <tr>\n",
       "      <th>3</th>\n",
       "      <td>8674</td>\n",
       "      <td>1098</td>\n",
       "    </tr>\n",
       "    <tr>\n",
       "      <th>4</th>\n",
       "      <td>8674</td>\n",
       "      <td>14219</td>\n",
       "    </tr>\n",
       "  </tbody>\n",
       "</table>\n",
       "</div>"
      ],
      "text/plain": [
       "    id1    id2\n",
       "0  8674   2382\n",
       "1  8674  12512\n",
       "2  8674  10317\n",
       "3  8674   1098\n",
       "4  8674  14219"
      ]
     },
     "execution_count": 100,
     "metadata": {},
     "output_type": "execute_result"
    }
   ],
   "source": [
    "\n",
    "df = pd.read_csv(r'CrawlData\\data\\reprocessed_data\\reduce_relationship.csv')\n",
    "df.head()"
   ]
  },
  {
   "cell_type": "code",
   "execution_count": 101,
   "metadata": {},
   "outputs": [],
   "source": [
    "nodes = set(list(df['id1']) + list(df['id2']))"
   ]
  },
  {
   "cell_type": "code",
   "execution_count": 102,
   "metadata": {},
   "outputs": [],
   "source": [
    "graph = nx.Graph()"
   ]
  },
  {
   "cell_type": "code",
   "execution_count": 103,
   "metadata": {},
   "outputs": [],
   "source": [
    "graph.add_nodes_from(nodes)\n",
    "for i, r in df.iterrows():\n",
    "    graph.add_edge(r['id1'], r['id2'])"
   ]
  },
  {
   "cell_type": "code",
   "execution_count": 104,
   "metadata": {},
   "outputs": [],
   "source": [
    "# plt.figure(figsize=(16,16))\n",
    "# pos = nx.spring_layout(graph)\n",
    "# nx.draw_networkx_labels(graph, pos, font_size=10)\n",
    "# nx.draw_networkx_edges(graph, pos, alpha=0.2)\n",
    "# nx.draw_networkx_nodes(graph, pos, node_size=3)"
   ]
  },
  {
   "cell_type": "code",
   "execution_count": 105,
   "metadata": {},
   "outputs": [],
   "source": [
    "def friends(graph: nx.Graph, user):\n",
    "    # return user's set of friends\n",
    "    return set(graph.neighbors(user))"
   ]
  },
  {
   "cell_type": "code",
   "execution_count": 106,
   "metadata": {},
   "outputs": [],
   "source": [
    "def number_of_friends(graph: nx.Graph, user):\n",
    "    # return the number of user's friends\n",
    "    return len(set(graph.neighbors(user)))"
   ]
  },
  {
   "cell_type": "code",
   "execution_count": 107,
   "metadata": {},
   "outputs": [],
   "source": [
    "def friends_of_friends(graph: nx.Graph, user):\n",
    "    # return a set of friends of user's friends\n",
    "    user_friends = friends(graph, user)\n",
    "    friends_of_friends_set = set()\n",
    "    for u in user_friends:\n",
    "        for uu in friends(graph, u):\n",
    "            if uu not in user_friends:\n",
    "                friends_of_friends_set.add(uu)\n",
    "    try:\n",
    "        friends_of_friends_set.remove(user)\n",
    "    except:\n",
    "        return friends_of_friends_set\n",
    "    return friends_of_friends_set"
   ]
  },
  {
   "cell_type": "code",
   "execution_count": 108,
   "metadata": {},
   "outputs": [],
   "source": [
    "def mutual_friends(graph: nx.Graph, user1, user2):\n",
    "    # return 2 users' set of mutual friends\n",
    "    user1_friends = friends(graph, user1)\n",
    "    user2_friends = friends(graph, user2)\n",
    "    return user1_friends.intersection(user2_friends)"
   ]
  },
  {
   "cell_type": "code",
   "execution_count": 109,
   "metadata": {},
   "outputs": [],
   "source": [
    "def number_of_mutual_friends(graph: nx.Graph, user1, user2):\n",
    "    # return the number of 2 users' mutual friends\n",
    "    return len(mutual_friends(graph, user1, user2))"
   ]
  },
  {
   "cell_type": "code",
   "execution_count": 110,
   "metadata": {},
   "outputs": [],
   "source": [
    "def number_of_mutual_friends_map(graph: nx.Graph, user):\n",
    "    all = list(graph.nodes())\n",
    "    # all = friends_of_friends(graph, user).union(friends(graph, user))\n",
    "    all.remove(user)\n",
    "    list_map = []\n",
    "    for u in all:\n",
    "        list_map.append((u, number_of_mutual_friends(graph, user, u)))\n",
    "    return list_map"
   ]
  },
  {
   "cell_type": "code",
   "execution_count": 111,
   "metadata": {},
   "outputs": [],
   "source": [
    "def get_ranked_list_by_mutual_friends(graph: nx.Graph, user, k = 10):\n",
    "    ranked_list = sorted(number_of_mutual_friends_map(graph, user), key=lambda x: x[1], reverse=True)\n",
    "    return ranked_list[:k]"
   ]
  },
  {
   "cell_type": "code",
   "execution_count": 112,
   "metadata": {},
   "outputs": [],
   "source": [
    "def influence_score(graph: nx.Graph, user1, user2):\n",
    "    mutual_friends_set = mutual_friends(graph, user1, user2)\n",
    "    score = 0\n",
    "    for u in mutual_friends_set:\n",
    "        score = score + 1/math.log(number_of_friends(graph, u))\n",
    "    return score"
   ]
  },
  {
   "cell_type": "code",
   "execution_count": 113,
   "metadata": {},
   "outputs": [],
   "source": [
    "def influence_score_map(graph: nx.Graph, user):\n",
    "    all = list(graph.nodes())\n",
    "    all.remove(user)\n",
    "    list_map = []\n",
    "    for u in all:\n",
    "        list_map.append((u, influence_score(graph, user, u)))\n",
    "    return list_map"
   ]
  },
  {
   "cell_type": "code",
   "execution_count": 114,
   "metadata": {},
   "outputs": [],
   "source": [
    "def get_ranked_list_by_influence_score(graph: nx.Graph, user, k = 10):\n",
    "    ranked_list = sorted(influence_score_map(graph, user), key= lambda x: x[1], reverse=True)\n",
    "    return ranked_list[:k]"
   ]
  },
  {
   "cell_type": "code",
   "execution_count": 115,
   "metadata": {},
   "outputs": [],
   "source": [
    "def get_recommended_list(graph: nx.Graph, user, option: str, k = 10):\n",
    "    if option == 'influence':\n",
    "        return get_ranked_list_by_influence_score(graph, user, k=k)\n",
    "    elif option == 'friends':\n",
    "        return get_ranked_list_by_mutual_friends(graph, user, k=k)\n",
    "    else: \n",
    "        print('parameter \"option\" accept \"influence\" or \"friends\"')\n",
    "        return []"
   ]
  },
  {
   "cell_type": "code",
   "execution_count": 116,
   "metadata": {},
   "outputs": [],
   "source": [
    "def is_recommendation_true(graph: nx.Graph, user1, user2, option: str, k=10):\n",
    "    k1 = number_of_friends(graph, user1)\n",
    "    k2 = number_of_friends(graph, user2)\n",
    "    graph.remove_edge(user1, user2)\n",
    "    ranked_list1 = get_recommended_list(graph, user1, option=option, k = k + k1)\n",
    "    list1 = [i[0] for i in ranked_list1]\n",
    "    ranked_list2 = get_recommended_list(graph, user2, option=option, k = k + k2)\n",
    "    list2 = [i[0] for i in ranked_list2]\n",
    "    graph.add_edge(user1, user2)\n",
    "    if user1 not in list2 and user2 not in list1:\n",
    "        return False\n",
    "    return True\n"
   ]
  },
  {
   "cell_type": "code",
   "execution_count": 117,
   "metadata": {},
   "outputs": [],
   "source": [
    "test_set = df.head(500)"
   ]
  },
  {
   "cell_type": "code",
   "execution_count": 118,
   "metadata": {},
   "outputs": [
    {
     "name": "stdout",
     "output_type": "stream",
     "text": [
      "0.836\n"
     ]
    }
   ],
   "source": [
    "count = 0\n",
    "for i, r in test_set.iterrows():\n",
    "    if is_recommendation_true(graph, r['id1'], r['id2'], option='influence', k=50) == True:\n",
    "        count = count + 1\n",
    "print(count/len(test_set))"
   ]
  },
  {
   "cell_type": "code",
   "execution_count": 119,
   "metadata": {},
   "outputs": [
    {
     "name": "stdout",
     "output_type": "stream",
     "text": [
      "0.862\n"
     ]
    }
   ],
   "source": [
    "count = 0\n",
    "for i, r in test_set.iterrows():\n",
    "    if is_recommendation_true(graph, r['id1'], r['id2'], option='friends', k=50) == True:\n",
    "        count = count + 1\n",
    "print(count/len(test_set))"
   ]
  },
  {
   "cell_type": "code",
   "execution_count": null,
   "metadata": {},
   "outputs": [],
   "source": []
  }
 ],
 "metadata": {
  "kernelspec": {
   "display_name": "Python 3.10.5 64-bit",
   "language": "python",
   "name": "python3"
  },
  "language_info": {
   "codemirror_mode": {
    "name": "ipython",
    "version": 3
   },
   "file_extension": ".py",
   "mimetype": "text/x-python",
   "name": "python",
   "nbconvert_exporter": "python",
   "pygments_lexer": "ipython3",
   "version": "3.10.5"
  },
  "orig_nbformat": 4,
  "vscode": {
   "interpreter": {
    "hash": "3e43744e3b76db76f00dd0f0ed56f0dc3589e390f52dff4d27386062904acf7d"
   }
  }
 },
 "nbformat": 4,
 "nbformat_minor": 2
}
