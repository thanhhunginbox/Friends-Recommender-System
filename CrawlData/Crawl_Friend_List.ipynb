{
 "cells": [
  {
   "cell_type": "code",
   "execution_count": 1,
   "metadata": {},
   "outputs": [],
   "source": [
    "from selenium import webdriver\n",
    "from selenium.webdriver.common.keys import Keys\n",
    "from selenium.webdriver.common.by import By\n",
    "from time import sleep\n",
    "import pandas as pd\n",
    "from bs4 import BeautifulSoup"
   ]
  },
  {
   "cell_type": "code",
   "execution_count": 2,
   "metadata": {},
   "outputs": [
    {
     "name": "stderr",
     "output_type": "stream",
     "text": [
      "C:\\Users\\Hung\\AppData\\Local\\Temp\\ipykernel_10520\\3743945848.py:1: DeprecationWarning: executable_path has been deprecated, please pass in a Service object\n",
      "  browser = webdriver.Chrome(executable_path='chromedriver.exe')\n"
     ]
    }
   ],
   "source": [
    "browser = webdriver.Chrome(executable_path='chromedriver.exe')\n",
    "\n",
    "browser.get('https://facebook.com')\n",
    "\n",
    "# Đăng nhập vào facebook\n",
    "txtUsername = browser.find_element(By.ID, 'email')\n",
    "txtUsername.send_keys('')\n",
    "txtPassword = browser.find_element(By.ID, 'pass')\n",
    "txtPassword.send_keys('')\n",
    "txtPassword.send_keys(Keys.ENTER)\n",
    "\n",
    "sleep(4)"
   ]
  },
  {
   "cell_type": "code",
   "execution_count": 3,
   "metadata": {},
   "outputs": [],
   "source": [
    "f = pd.read_csv('setmain.csv')\n",
    "ff = f['url2'].to_list()"
   ]
  },
  {
   "cell_type": "code",
   "execution_count": 4,
   "metadata": {},
   "outputs": [],
   "source": [
    "link_list = ff[561:]\n",
    "link_list\n",
    "failed_list = []"
   ]
  },
  {
   "cell_type": "code",
   "execution_count": 5,
   "metadata": {},
   "outputs": [
    {
     "name": "stdout",
     "output_type": "stream",
     "text": [
      "failed\n",
      "failed\n",
      "failed\n",
      "failed\n",
      "failed\n",
      "failed\n",
      "failed\n",
      "failed\n",
      "failed\n",
      "failed\n",
      "failed\n",
      "failed\n",
      "failed\n",
      "failed\n",
      "failed\n",
      "failed\n",
      "failed\n",
      "failed\n",
      "failed\n",
      "failed\n",
      "failed\n",
      "failed\n",
      "failed\n",
      "failed\n",
      "failed\n",
      "failed\n",
      "failed\n",
      "failed\n",
      "failed\n",
      "failed\n",
      "failed\n",
      "failed\n",
      "failed\n",
      "failed\n",
      "failed\n",
      "failed\n",
      "failed\n",
      "failed\n",
      "failed\n",
      "failed\n",
      "failed\n",
      "failed\n",
      "failed\n"
     ]
    }
   ],
   "source": [
    "for k, u in enumerate(link_list):\n",
    "\n",
    "    if 'php' in u:\n",
    "        browser.get(u+ '&sk=friends')\n",
    "    else:\n",
    "        browser.get(u + '/friends')\n",
    "    sleep(4)\n",
    "\n",
    "    # Sroll đến cuối để page tải hết dữ liệu\n",
    "    lenOfPage = browser.execute_script(\n",
    "        \"window.scrollTo(0, document.body.scrollHeight);var lenOfPage=document.body.scrollHeight;return lenOfPage;\")\n",
    "    match = False\n",
    "    n = 1\n",
    "    while (match == False):\n",
    "        lastCount = lenOfPage\n",
    "        sleep(4)\n",
    "        lenOfPage = browser.execute_script(\n",
    "            \"window.scrollTo(0, document.body.scrollHeight);var lenOfPage=document.body.scrollHeight;return lenOfPage;\")\n",
    "        if lastCount == lenOfPage or n > 3:\n",
    "            match = True\n",
    "        n = n + 1\n",
    "        \n",
    "    sleep(4)\n",
    "\n",
    "    try:\n",
    "        friend_div = browser.find_element(\n",
    "        By.XPATH, '/html/body/div[1]/div[1]/div[1]/div/div[3]/div/div/div/div[1]/div[1]/div/div/div[4]/div/div/div/div/div/div/div/div/div[3]')\n",
    "    except:\n",
    "        failed_list.append(u)\n",
    "        continue\n",
    "\n",
    "    html = friend_div.get_attribute('innerHTML')\n",
    "    soup = BeautifulSoup(html, 'html.parser')\n",
    "    friend_div = soup.findChildren(recursive=False)\n",
    "\n",
    "    name = browser.find_element(By.XPATH, '/html/body/div[1]/div/div[1]/div/div[3]/div/div/div/div[1]/div[1]/div/div/div[1]/div[2]/div/div/div/div[3]/div/div/div[1]/div/div')\n",
    "\n",
    "\n",
    "    pair_list = []\n",
    "\n",
    "    for i in friend_div:\n",
    "        try:\n",
    "            div = i.find('div', {\"class\":[\"x1iyjqo2\", \"x1pi30zi\"]})\n",
    "            a = div.findChildren('a')[0]\n",
    "            d = {'name1': name.text, 'url1': u , 'name2': a.text, 'url2': a.get('href')}\n",
    "            pair_list.append(d)\n",
    "        except:\n",
    "            print('failed')\n",
    "            continue\n",
    "\n",
    "    df = pd.DataFrame(pair_list).to_csv('set' +  str(k+561) + '.csv', index=False)"
   ]
  },
  {
   "cell_type": "code",
   "execution_count": 6,
   "metadata": {},
   "outputs": [],
   "source": [
    "\n",
    "browser.close()"
   ]
  },
  {
   "cell_type": "code",
   "execution_count": 9,
   "metadata": {},
   "outputs": [],
   "source": [
    "pd.DataFrame(failed_list).to_csv('failed.csv', index=False, header=False)"
   ]
  },
  {
   "cell_type": "code",
   "execution_count": 5,
   "metadata": {},
   "outputs": [
    {
     "name": "stdout",
     "output_type": "stream",
     "text": [
      "id,introNow the file has more content!\n",
      "Now the file has more content!\n"
     ]
    }
   ],
   "source": [
    "f = open(\"cc.csv\", \"a\")\n",
    "f.write(\"\\nNow the file has more content!\")\n",
    "\n",
    "#open and read the file after the appending:\n",
    "f = open(\"cc.csv\", \"r\")\n",
    "print(f.read())"
   ]
  },
  {
   "cell_type": "code",
   "execution_count": null,
   "metadata": {},
   "outputs": [],
   "source": []
  }
 ],
 "metadata": {
  "kernelspec": {
   "display_name": "Python 3.10.5 64-bit",
   "language": "python",
   "name": "python3"
  },
  "language_info": {
   "codemirror_mode": {
    "name": "ipython",
    "version": 3
   },
   "file_extension": ".py",
   "mimetype": "text/x-python",
   "name": "python",
   "nbconvert_exporter": "python",
   "pygments_lexer": "ipython3",
   "version": "3.10.5"
  },
  "orig_nbformat": 4,
  "vscode": {
   "interpreter": {
    "hash": "3e43744e3b76db76f00dd0f0ed56f0dc3589e390f52dff4d27386062904acf7d"
   }
  }
 },
 "nbformat": 4,
 "nbformat_minor": 2
}
